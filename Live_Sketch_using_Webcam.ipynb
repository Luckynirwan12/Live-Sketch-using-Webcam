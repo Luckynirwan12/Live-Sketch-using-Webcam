{
  "nbformat": 4,
  "nbformat_minor": 0,
  "metadata": {
    "colab": {
      "provenance": [],
      "authorship_tag": "ABX9TyOmpf8PSIPbMko4EJlXN8Xy",
      "include_colab_link": true
    },
    "kernelspec": {
      "name": "python3",
      "display_name": "Python 3"
    },
    "language_info": {
      "name": "python"
    }
  },
  "cells": [
    {
      "cell_type": "markdown",
      "metadata": {
        "id": "view-in-github",
        "colab_type": "text"
      },
      "source": [
        "<a href=\"https://colab.research.google.com/github/Luckynirwan12/Live-Sketch-using-Webcam/blob/main/Live_Sketch_using_Webcam.ipynb\" target=\"_parent\"><img src=\"https://colab.research.google.com/assets/colab-badge.svg\" alt=\"Open In Colab\"/></a>"
      ]
    },
    {
      "cell_type": "code",
      "source": [
        "import cv2\n",
        "import numpy as np\n",
        "\n",
        "# Our Sketch generating functions\n",
        "def sketch(image):\n",
        "  # Convert image into grayscale\n",
        "  img_gray = cv2.cvtcolor(image,cv2.COLOR_BGR2GRAY)\n",
        "\n",
        "  # Clean up image using Guassian Blur\n",
        "  img_gray_blur = cv2.GaussianBlur(img_gray, (5,5), 0)\n",
        "\n",
        "  # Extract edges\n",
        "  canny_edges = cv2.Canny(img_gray_blur, 10, 70)\n",
        "\n",
        "  # Do an invert binarize the image\n",
        "  ret, mask = cv2.threshold(canny_edges, 100, 255, cv2.THRESH_BINARY_INV)\n",
        "  return mask\n",
        "\n",
        "# Initialize webcam, cap is the object provided by VideoCapture\n",
        "# It contains a boolean indicating if it was sucessful (ret)\n",
        "# It also contains the images collected from the webcam (frame)\n",
        "cap = cv2.VideoCapture(0)\n",
        "\n",
        "\n",
        "while True:\n",
        "  ret, frame = cap.read()\n",
        "  cv2.imshow('Our Live Sketcher', sketch(frame))\n",
        "  if cv2.waitKey(1) == 13: #13 is the Enter Key\n",
        "    break\n",
        "\n",
        "# Release camera and close windows\n",
        "cap.release()\n",
        "cv2.destroyAllWindows()\n",
        "\n",
        "# This will not work in the Google Colab, Please follow the steps (Steps to Run) mention in the README.md section"
      ],
      "metadata": {
        "id": "WfLjKjbo84ZP"
      },
      "execution_count": null,
      "outputs": []
    }
  ]
}